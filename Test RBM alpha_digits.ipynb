{
 "cells": [
  {
   "cell_type": "code",
   "execution_count": 35,
   "id": "competitive-corps",
   "metadata": {},
   "outputs": [],
   "source": [
    "from codes.utils import load_alpha_digits\n",
    "import matplotlib.pyplot as plt\n",
    "import numpy as np\n",
    "from codes.RBM import RBM"
   ]
  },
  {
   "cell_type": "markdown",
   "id": "racial-meter",
   "metadata": {},
   "source": [
    "# Alpha Digits Test RBM"
   ]
  },
  {
   "cell_type": "code",
   "execution_count": 36,
   "id": "dominican-matrix",
   "metadata": {},
   "outputs": [
    {
     "name": "stdout",
     "output_type": "stream",
     "text": [
      "(39, 320)\n"
     ]
    },
    {
     "data": {
      "image/png": "[encoded data removed]",
      "text/plain": [
       "<Figure size 432x288 with 1 Axes>"
      ]
     },
     "metadata": {
      "needs_background": "light"
     },
     "output_type": "display_data"
    }
   ],
   "source": [
    "data = load_alpha_digits()\n",
    "plt.imshow(data[\"dat\"][13][0], cmap='gray')\n",
    "d_letter = [data[\"dat\"][13][i].flatten() for i in range(data[\"dat\"][13].shape[0])]\n",
    "d_letter = np.array(d_letter)\n",
    "print(d_letter.shape)"
   ]
  },
  {
   "cell_type": "code",
   "execution_count": 37,
   "id": "attached-equation",
   "metadata": {},
   "outputs": [
    {
     "name": "stdout",
     "output_type": "stream",
     "text": [
      "Epoch 100 Complete: Reconstruction Error: 32.2941474\n",
      "Epoch 200 Complete: Reconstruction Error: 27.4189894\n",
      "Epoch 300 Complete: Reconstruction Error: 24.6402565\n",
      "Epoch 400 Complete: Reconstruction Error: 22.5427641\n",
      "Epoch 500 Complete: Reconstruction Error: 21.1314931\n",
      "Epoch 600 Complete: Reconstruction Error: 19.7577235\n",
      "Epoch 700 Complete: Reconstruction Error: 18.7812238\n",
      "Epoch 800 Complete: Reconstruction Error: 17.8598571\n",
      "Epoch 900 Complete: Reconstruction Error: 17.1401816\n",
      "Epoch 1000 Complete: Reconstruction Error: 16.4999999\n"
     ]
    }
   ],
   "source": [
    "rbm = RBM((20, 16), 20)\n",
    "\n",
    "errors = rbm.train(d_letter, 10, num_epochs=1000, lr=0.1)"
   ]
  },
  {
   "cell_type": "code",
   "execution_count": 40,
   "id": "conservative-motorcycle",
   "metadata": {},
   "outputs": [
    {
     "data": {
      "text/plain": [
       "<matplotlib.image.AxesImage at 0x18bd3f1d9d0>"
      ]
     },
     "execution_count": 40,
     "metadata": {},
     "output_type": "execute_result"
    },
    {
     "data": {
      "image/png": "[encoded data removed]",
      "text/plain": [
       "<Figure size 432x288 with 1 Axes>"
      ]
     },
     "metadata": {
      "needs_background": "light"
     },
     "output_type": "display_data"
    }
   ],
   "source": [
    "plt.imshow(rbm.generate_image(1,100)[0], cmap='gray')"
   ]
  },
  {
   "cell_type": "markdown",
   "id": "unknown-pantyhose",
   "metadata": {},
   "source": [
    "# Mnist Test RBM"
   ]
  },
  {
   "cell_type": "code",
   "execution_count": 13,
   "id": "composite-simon",
   "metadata": {},
   "outputs": [
    {
     "name": "stdout",
     "output_type": "stream",
     "text": [
      "(5421, 28, 28)\n"
     ]
    },
    {
     "data": {
      "text/plain": [
       "<matplotlib.image.AxesImage at 0x18bd7d64460>"
      ]
     },
     "execution_count": 13,
     "metadata": {},
     "output_type": "execute_result"
    },
    {
     "data": {
      "image/png": "[encoded data removed]",
      "text/plain": [
       "<Figure size 432x288 with 1 Axes>"
      ]
     },
     "metadata": {
      "needs_background": "light"
     },
     "output_type": "display_data"
    }
   ],
   "source": [
    "from codes.utils import load_mnist\n",
    "\n",
    "train = load_mnist()\n",
    "five_numbers = train[0][0][train[1][0]==5]\n",
    "print(five_numbers.shape)\n",
    "plt.imshow(five_numbers[0], cmap='gray')"
   ]
  },
  {
   "cell_type": "code",
   "execution_count": 12,
   "id": "prospective-insulin",
   "metadata": {},
   "outputs": [
    {
     "name": "stdout",
     "output_type": "stream",
     "text": [
      "(5421, 784)\n"
     ]
    }
   ],
   "source": [
    "five_numbers = [five_numbers[i].flatten() for i in range(five_numbers.shape[0])]\n",
    "five_numbers = np.array(five_numbers)\n",
    "print(five_numbers.shape)"
   ]
  },
  {
   "cell_type": "code",
   "execution_count": 9,
   "id": "mechanical-morgan",
   "metadata": {},
   "outputs": [
    {
     "name": "stdout",
     "output_type": "stream",
     "text": [
      "Epoch 100 Complete: Reconstruction Error: 214.3893348\n",
      "Epoch 200 Complete: Reconstruction Error: 174.1299324\n",
      "Epoch 300 Complete: Reconstruction Error: 153.2614373\n",
      "Epoch 400 Complete: Reconstruction Error: 139.3367967\n",
      "Epoch 500 Complete: Reconstruction Error: 130.0696484\n",
      "Epoch 600 Complete: Reconstruction Error: 122.3178089\n",
      "Epoch 700 Complete: Reconstruction Error: 115.8769734\n",
      "Epoch 800 Complete: Reconstruction Error: 111.1789592\n",
      "Epoch 900 Complete: Reconstruction Error: 107.4237596\n",
      "Epoch 1000 Complete: Reconstruction Error: 103.3316625\n"
     ]
    }
   ],
   "source": [
    "rbm = RBM((28, 28), 300)\n",
    "\n",
    "errors = rbm.train(five_numbers, 128, num_epochs=1000, lr=0.1)"
   ]
  },
  {
   "cell_type": "code",
   "execution_count": 10,
   "id": "minute-working",
   "metadata": {},
   "outputs": [
    {
     "data": {
      "text/plain": [
       "<matplotlib.image.AxesImage at 0x18bd6cf8c10>"
      ]
     },
     "execution_count": 10,
     "metadata": {},
     "output_type": "execute_result"
    },
    {
     "data": {
      "image/png": "[encoded data removed]",
      "text/plain": [
       "<Figure size 432x288 with 1 Axes>"
      ]
     },
     "metadata": {
      "needs_background": "light"
     },
     "output_type": "display_data"
    }
   ],
   "source": [
    "plt.imshow(rbm.generate_image(1,100)[0], cmap='gray')"
   ]
  }
 ],
 "metadata": {
  "kernelspec": {
   "display_name": "Python 3",
   "language": "python",
   "name": "python3"
  },
  "language_info": {
   "codemirror_mode": {
    "name": "ipython",
    "version": 3
   },
   "file_extension": ".py",
   "mimetype": "text/x-python",
   "name": "python",
   "nbconvert_exporter": "python",
   "pygments_lexer": "ipython3",
   "version": "3.9.1"
  }
 },
 "nbformat": 4,
 "nbformat_minor": 5
}
