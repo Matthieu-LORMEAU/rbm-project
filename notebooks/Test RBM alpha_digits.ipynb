{
 "cells": [
  {
   "cell_type": "code",
   "execution_count": 1,
   "id": "fifth-actor",
   "metadata": {},
   "outputs": [],
   "source": [
    "from pathlib import Path\n",
    "import sys\n",
    "sys.path.append(str(Path.cwd().parent))"
   ]
  },
  {
   "cell_type": "code",
   "execution_count": 2,
   "id": "competitive-corps",
   "metadata": {},
   "outputs": [],
   "source": [
    "from codes.utils import load_alpha_digits\n",
    "import matplotlib.pyplot as plt\n",
    "import numpy as np\n",
    "from codes.RBM import RBM"
   ]
  },
  {
   "cell_type": "markdown",
   "id": "racial-meter",
   "metadata": {},
   "source": [
    "# Alpha Digits Test RBM"
   ]
  },
  {
   "cell_type": "code",
   "execution_count": 3,
   "id": "dominican-matrix",
   "metadata": {},
   "outputs": [
    {
     "name": "stdout",
     "output_type": "stream",
     "text": [
      "(39, 320)\n"
     ]
    },
    {
     "data": {
      "image/png": "[encoded data removed]",
      "text/plain": [
       "<Figure size 432x288 with 1 Axes>"
      ]
     },
     "metadata": {
      "needs_background": "light"
     },
     "output_type": "display_data"
    }
   ],
   "source": [
    "data = load_alpha_digits()\n",
    "plt.imshow(data[\"dat\"][13][0], cmap='gray')\n",
    "d_letter = [data[\"dat\"][13][i].flatten() for i in range(data[\"dat\"][13].shape[0])]\n",
    "d_letter = np.array(d_letter)   \n",
    "print(d_letter.shape)"
   ]
  },
  {
   "cell_type": "code",
   "execution_count": 4,
   "id": "attached-equation",
   "metadata": {},
   "outputs": [
    {
     "name": "stderr",
     "output_type": "stream",
     "text": [
      "                                                                                                                                                                   \r"
     ]
    }
   ],
   "source": [
    "rbm = RBM(d_letter.shape[1], 20)\n",
    "\n",
    "errors = rbm.train(d_letter, 10, num_epochs=1000, lr=0.1, verbose=False)"
   ]
  },
  {
   "cell_type": "code",
   "execution_count": 5,
   "id": "conservative-motorcycle",
   "metadata": {},
   "outputs": [
    {
     "data": {
      "text/plain": [
       "<matplotlib.image.AxesImage at 0x2524f9122e0>"
      ]
     },
     "execution_count": 5,
     "metadata": {},
     "output_type": "execute_result"
    },
    {
     "data": {
      "image/png": "[encoded data removed]",
      "text/plain": [
       "<Figure size 432x288 with 1 Axes>"
      ]
     },
     "metadata": {
      "needs_background": "light"
     },
     "output_type": "display_data"
    }
   ],
   "source": [
    "plt.imshow(rbm.generate_image(1,100, reshape=data[\"dat\"][13][0].shape)[0], cmap='gray')"
   ]
  },
  {
   "cell_type": "markdown",
   "id": "unknown-pantyhose",
   "metadata": {},
   "source": [
    "# Mnist Test RBM"
   ]
  },
  {
   "cell_type": "code",
   "execution_count": 6,
   "id": "composite-simon",
   "metadata": {},
   "outputs": [
    {
     "name": "stdout",
     "output_type": "stream",
     "text": [
      "(5421, 28, 28)\n"
     ]
    },
    {
     "data": {
      "text/plain": [
       "<matplotlib.image.AxesImage at 0x2524f8517f0>"
      ]
     },
     "execution_count": 6,
     "metadata": {},
     "output_type": "execute_result"
    },
    {
     "data": {
      "image/png": "[encoded data removed]",
      "text/plain": [
       "<Figure size 432x288 with 1 Axes>"
      ]
     },
     "metadata": {
      "needs_background": "light"
     },
     "output_type": "display_data"
    }
   ],
   "source": [
    "from codes.utils import load_mnist\n",
    "\n",
    "train = load_mnist()\n",
    "five_numbers = train[0][0][train[1][0]==5]\n",
    "print(five_numbers.shape)\n",
    "plt.imshow(five_numbers[0], cmap='gray')"
   ]
  },
  {
   "cell_type": "code",
   "execution_count": 7,
   "id": "prospective-insulin",
   "metadata": {},
   "outputs": [
    {
     "name": "stdout",
     "output_type": "stream",
     "text": [
      "(5421, 784)\n"
     ]
    }
   ],
   "source": [
    "five_numbers = [five_numbers[i].flatten() for i in range(five_numbers.shape[0])]\n",
    "five_numbers = np.array(five_numbers)\n",
    "print(five_numbers.shape)"
   ]
  },
  {
   "cell_type": "code",
   "execution_count": 8,
   "id": "mechanical-morgan",
   "metadata": {},
   "outputs": [
    {
     "name": "stderr",
     "output_type": "stream",
     "text": [
      "                                                                                                                                                                   \r"
     ]
    }
   ],
   "source": [
    "rbm = RBM(28*28, 300)\n",
    "\n",
    "errors = rbm.train(five_numbers, 128, num_epochs=1000, lr=0.1, verbose=False)"
   ]
  },
  {
   "cell_type": "code",
   "execution_count": 9,
   "id": "minute-working",
   "metadata": {},
   "outputs": [
    {
     "data": {
      "text/plain": [
       "<matplotlib.image.AxesImage at 0x25251c445e0>"
      ]
     },
     "execution_count": 9,
     "metadata": {},
     "output_type": "execute_result"
    },
    {
     "data": {
      "image/png": "[encoded data removed]",
      "text/plain": [
       "<Figure size 432x288 with 1 Axes>"
      ]
     },
     "metadata": {
      "needs_background": "light"
     },
     "output_type": "display_data"
    }
   ],
   "source": [
    "plt.imshow(rbm.generate_image(1, 100, reshape=(28,28))[0], cmap='gray')"
   ]
  },
  {
   "cell_type": "code",
   "execution_count": null,
   "id": "dedicated-bones",
   "metadata": {},
   "outputs": [],
   "source": []
  }
 ],
 "metadata": {
  "kernelspec": {
   "display_name": "Python 3",
   "language": "python",
   "name": "python3"
  },
  "language_info": {
   "codemirror_mode": {
    "name": "ipython",
    "version": 3
   },
   "file_extension": ".py",
   "mimetype": "text/x-python",
   "name": "python",
   "nbconvert_exporter": "python",
   "pygments_lexer": "ipython3",
   "version": "3.8.8"
  }
 },
 "nbformat": 4,
 "nbformat_minor": 5
}
