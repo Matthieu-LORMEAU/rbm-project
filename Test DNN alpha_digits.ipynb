{
 "cells": [
  {
   "cell_type": "code",
   "execution_count": 1,
   "metadata": {},
   "outputs": [],
   "source": [
    "from codes.utils import load_alpha_digits\n",
    "import matplotlib.pyplot as plt\n",
    "import numpy as np\n",
    "from codes.DNN import DNN"
   ]
  },
  {
   "cell_type": "markdown",
   "metadata": {},
   "source": [
    "# Alpha Digits Test DBN"
   ]
  },
  {
   "cell_type": "code",
   "execution_count": 2,
   "metadata": {},
   "outputs": [
    {
     "name": "stdout",
     "output_type": "stream",
     "text": [
      "(39, 320)\n"
     ]
    },
    {
     "data": {
      "image/png": "[encoded data removed]",
      "text/plain": [
       "<Figure size 432x288 with 1 Axes>"
      ]
     },
     "metadata": {
      "needs_background": "light"
     },
     "output_type": "display_data"
    }
   ],
   "source": [
    "data = load_alpha_digits()\n",
    "plt.imshow(data[\"dat\"][13][0], cmap='gray')\n",
    "d_letter = [data[\"dat\"][13][i].flatten() for i in range(data[\"dat\"][13].shape[0])]\n",
    "d_letter = np.array(d_letter)   \n",
    "print(d_letter.shape)"
   ]
  },
  {
   "cell_type": "code",
   "execution_count": 3,
   "metadata": {},
   "outputs": [
    {
     "name": "stdout",
     "output_type": "stream",
     "text": [
      "Pretraining Complete: Reconstruction Error: 0.8558112\n"
     ]
    }
   ],
   "source": [
    "dnn = DNN(d_letter.shape[1], [30, 20])\n",
    "\n",
    "dnn.pretrain(d_letter, 10, num_epochs=1000, lr=0.1)"
   ]
  },
  {
   "cell_type": "code",
   "execution_count": 4,
   "metadata": {},
   "outputs": [
    {
     "data": {
      "image/png": "[encoded data removed]",
      "text/plain": [
       "<Figure size 432x288 with 1 Axes>"
      ]
     },
     "metadata": {
      "needs_background": "light"
     },
     "output_type": "display_data"
    }
   ],
   "source": [
    "plt.imshow(dnn.generate_image_DBN(1,100, reshape=data[\"dat\"][13][0].shape)[0], cmap='gray')\n",
    "plt.show()"
   ]
  },
  {
   "cell_type": "code",
   "execution_count": 5,
   "metadata": {},
   "outputs": [
    {
     "data": {
      "text/plain": [
       "4.358898943540674"
      ]
     },
     "execution_count": 5,
     "metadata": {},
     "output_type": "execute_result"
    }
   ],
   "source": [
    "# first layer only\r\n",
    "\r\n",
    "from codes.utils import reconstruction_error\r\n",
    "l = dnn.layers[0]\r\n",
    "p_h = l.input_output(d_letter[0])\r\n",
    "h = (np.random.random_sample(l.output_size) < p_h) * 1\r\n",
    "\r\n",
    "p_v = l.output_input(h)\r\n",
    "x_tild = (np.random.random_sample(l.input_size) < p_v) * 1\r\n",
    "\r\n",
    "\r\n",
    "reconstruction_error(d_letter[0], x_tild)\r\n"
   ]
  },
  {
   "cell_type": "code",
   "execution_count": 6,
   "metadata": {},
   "outputs": [
    {
     "data": {
      "text/plain": [
       "array([3.14210429e-073, 8.08011434e-049, 3.09047187e-050, 4.52760359e-044,\n",
       "       2.59909241e-035, 1.60172214e-080, 4.16482374e-065, 5.25808611e-088,\n",
       "       5.06194441e-110, 6.63902697e-092, 1.58208922e-078, 2.27577125e-077,\n",
       "       6.00131736e-013, 1.28619353e-077, 3.84660253e-064, 3.30081153e-045,\n",
       "       7.47281282e-079, 7.15744797e-084, 1.50752173e-031, 3.88676333e-090,\n",
       "       3.58058474e-038, 1.80279318e-027, 7.22167895e-072, 1.20966943e-081,\n",
       "       2.57269428e-020, 1.00000000e+000, 3.30359841e-099, 2.34473002e-063,\n",
       "       2.94433962e-042, 5.77441043e-077])"
      ]
     },
     "execution_count": 6,
     "metadata": {},
     "output_type": "execute_result"
    }
   ],
   "source": [
    "dnn.softmax(l, d_letter[0])"
   ]
  },
  {
   "cell_type": "markdown",
   "metadata": {},
   "source": [
    "# Test Classif without more training"
   ]
  },
  {
   "cell_type": "code",
   "execution_count": 1,
   "metadata": {},
   "outputs": [
    {
     "data": {
      "text/plain": [
       "(390, 320)"
      ]
     },
     "execution_count": 1,
     "metadata": {},
     "output_type": "execute_result"
    }
   ],
   "source": [
    "from codes.utils import load_alpha_digits\n",
    "import matplotlib.pyplot as plt\n",
    "import numpy as np\n",
    "from codes.DNN import DNN\n",
    "\n",
    "data = load_alpha_digits()\n",
    "digits = []\n",
    "for digit_idx in range(10):\n",
    "    digit = [data[\"dat\"][digit_idx][i].flatten() for i in range(data[\"dat\"][digit_idx].shape[0])]\n",
    "    digit = np.array(digit)\n",
    "    digits.append(digit)\n",
    "\n",
    "digits = np.concatenate(digits)\n",
    "digits.shape"
   ]
  },
  {
   "cell_type": "code",
   "execution_count": 2,
   "metadata": {},
   "outputs": [
    {
     "data": {
      "text/plain": [
       "<matplotlib.image.AxesImage at 0x1784b50dfd0>"
      ]
     },
     "execution_count": 2,
     "metadata": {},
     "output_type": "execute_result"
    },
    {
     "data": {
      "image/png": "[encoded data removed]",
      "text/plain": [
       "<Figure size 432x288 with 1 Axes>"
      ]
     },
     "metadata": {
      "needs_background": "light"
     },
     "output_type": "display_data"
    }
   ],
   "source": [
    "plt.imshow(digits[7*39 + 10].reshape(data[\"dat\"][13][0].shape), cmap='gray')"
   ]
  },
  {
   "cell_type": "code",
   "execution_count": 4,
   "metadata": {},
   "outputs": [
    {
     "name": "stdout",
     "output_type": "stream",
     "text": [
      "Pretraining Complete: Reconstruction Error: 8.9832931\n"
     ]
    }
   ],
   "source": [
    "dnn = DNN(digits.shape[1], [30, 20], 10)\n",
    "\n",
    "dnn.pretrain(digits, 32, num_epochs=1000, lr=0.1)"
   ]
  },
  {
   "cell_type": "code",
   "execution_count": 5,
   "metadata": {},
   "outputs": [
    {
     "data": {
      "image/png": "[encoded data removed]",
      "text/plain": [
       "<Figure size 432x288 with 1 Axes>"
      ]
     },
     "metadata": {
      "needs_background": "light"
     },
     "output_type": "display_data"
    }
   ],
   "source": [
    "plt.imshow(dnn.generate_image_DBN(1,100, reshape=data[\"dat\"][13][0].shape)[0], cmap='gray')\n",
    "plt.show()"
   ]
  },
  {
   "cell_type": "markdown",
   "metadata": {},
   "source": [
    "# Test MNIST"
   ]
  },
  {
   "cell_type": "code",
   "execution_count": 1,
   "metadata": {},
   "outputs": [
    {
     "data": {
      "image/png": "[encoded data removed]",
      "text/plain": [
       "<Figure size 432x288 with 1 Axes>"
      ]
     },
     "metadata": {
      "needs_background": "light"
     },
     "output_type": "display_data"
    }
   ],
   "source": [
    "from codes.utils import load_mnist\n",
    "from codes.DNN import DNN\n",
    "import matplotlib.pyplot as plt\n",
    "import numpy as np\n",
    "\n",
    "train = load_mnist()\n",
    "img = train[0][0]\n",
    "label = train[1][0]\n",
    "\n",
    "plt.imshow(img[0], cmap='gray')\n",
    "plt.show()"
   ]
  },
  {
   "cell_type": "code",
   "execution_count": 2,
   "metadata": {},
   "outputs": [
    {
     "data": {
      "text/plain": [
       "(60000, 28, 28)"
      ]
     },
     "execution_count": 2,
     "metadata": {},
     "output_type": "execute_result"
    }
   ],
   "source": [
    "img.shape"
   ]
  },
  {
   "cell_type": "code",
   "execution_count": 3,
   "metadata": {},
   "outputs": [
    {
     "data": {
      "text/plain": [
       "(60000,)"
      ]
     },
     "execution_count": 3,
     "metadata": {},
     "output_type": "execute_result"
    }
   ],
   "source": [
    "label.shape"
   ]
  },
  {
   "cell_type": "code",
   "execution_count": 4,
   "metadata": {},
   "outputs": [],
   "source": [
    "img = [img[i].flatten().reshape(1,-1) for i in range(img.shape[0])]\n",
    "img = np.concatenate(img)"
   ]
  },
  {
   "cell_type": "code",
   "execution_count": 5,
   "metadata": {},
   "outputs": [
    {
     "data": {
      "text/plain": [
       "(60000, 784)"
      ]
     },
     "execution_count": 5,
     "metadata": {},
     "output_type": "execute_result"
    }
   ],
   "source": [
    "img.shape"
   ]
  },
  {
   "cell_type": "code",
   "execution_count": 6,
   "metadata": {},
   "outputs": [
    {
     "name": "stdout",
     "output_type": "stream",
     "text": [
      "Pretraining Complete: Reconstruction Error: 8.9736281\n"
     ]
    }
   ],
   "source": [
    "dnn = DNN(784, [512, 128], 10)\n",
    "indices = np.random.permutation(6000)\n",
    "dnn.pretrain(img[indices], 128, num_epochs=5, lr=0.1)"
   ]
  },
  {
   "cell_type": "code",
   "execution_count": 7,
   "metadata": {},
   "outputs": [
    {
     "data": {
      "image/png": "[encoded data removed]",
      "text/plain": [
       "<Figure size 432x288 with 1 Axes>"
      ]
     },
     "metadata": {
      "needs_background": "light"
     },
     "output_type": "display_data"
    }
   ],
   "source": [
    "plt.imshow(dnn.generate_image_DBN(1,10, reshape=(28, 28))[0], cmap='gray')\n",
    "plt.show()"
   ]
  },
  {
   "cell_type": "code",
   "execution_count": 1,
   "metadata": {},
   "outputs": [
    {
     "name": "stdout",
     "output_type": "stream",
     "text": [
      "date and time = 10/03/2021 02:59:21\n",
      "Pretraining Complete: Reconstruction Error: 6.9344626\n",
      "epoch: 0 (Loss: train 2.15) (Accuracy: train 0.52)\n",
      "epoch: 10 (Loss: train 0.69) (Accuracy: train 0.87)\n",
      "epoch: 20 (Loss: train 0.44) (Accuracy: train 0.90)\n",
      "epoch: 30 (Loss: train 0.34) (Accuracy: train 0.91)\n",
      "epoch: 40 (Loss: train 0.29) (Accuracy: train 0.92)\n",
      "epoch: 50 (Loss: train 0.26) (Accuracy: train 0.93)\n",
      "epoch: 60 (Loss: train 0.23) (Accuracy: train 0.94)\n",
      "epoch: 70 (Loss: train 0.21) (Accuracy: train 0.94)\n",
      "epoch: 80 (Loss: train 0.20) (Accuracy: train 0.95)\n",
      "epoch: 90 (Loss: train 0.18) (Accuracy: train 0.95)\n",
      "epoch: 100 (Loss: train 0.17) (Accuracy: train 0.95)\n",
      "epoch: 110 (Loss: train 0.16) (Accuracy: train 0.95)\n",
      "epoch: 120 (Loss: train 0.15) (Accuracy: train 0.96)\n",
      "epoch: 130 (Loss: train 0.15) (Accuracy: train 0.96)\n",
      "epoch: 140 (Loss: train 0.14) (Accuracy: train 0.96)\n",
      "epoch: 150 (Loss: train 0.13) (Accuracy: train 0.96)\n",
      "epoch: 160 (Loss: train 0.13) (Accuracy: train 0.96)\n",
      "epoch: 170 (Loss: train 0.12) (Accuracy: train 0.96)\n",
      "epoch: 180 (Loss: train 0.12) (Accuracy: train 0.97)\n",
      "epoch: 190 (Loss: train 0.11) (Accuracy: train 0.97)\n",
      "epoch: 200 (Loss: train 0.11) (Accuracy: train 0.97)\n",
      "epoch: 210 (Loss: train 0.11) (Accuracy: train 0.97)\n",
      "epoch: 220 (Loss: train 0.10) (Accuracy: train 0.97)\n",
      "epoch: 230 (Loss: train 0.10) (Accuracy: train 0.97)\n",
      "epoch: 240 (Loss: train 0.10) (Accuracy: train 0.97)\n",
      "epoch: 250 (Loss: train 0.09) (Accuracy: train 0.97)\n",
      "epoch: 260 (Loss: train 0.09) (Accuracy: train 0.97)\n",
      "epoch: 270 (Loss: train 0.09) (Accuracy: train 0.97)\n",
      "epoch: 280 (Loss: train 0.09) (Accuracy: train 0.97)\n",
      "epoch: 290 (Loss: train 0.08) (Accuracy: train 0.98)\n",
      "epoch: 300 (Loss: train 0.08) (Accuracy: train 0.98)\n",
      "epoch: 310 (Loss: train 0.08) (Accuracy: train 0.98)\n",
      "epoch: 320 (Loss: train 0.08) (Accuracy: train 0.98)\n",
      "epoch: 330 (Loss: train 0.08) (Accuracy: train 0.98)\n",
      "epoch: 340 (Loss: train 0.07) (Accuracy: train 0.98)\n",
      "epoch: 350 (Loss: train 0.07) (Accuracy: train 0.98)\n",
      "epoch: 360 (Loss: train 0.07) (Accuracy: train 0.98)\n",
      "epoch: 370 (Loss: train 0.07) (Accuracy: train 0.98)\n",
      "epoch: 380 (Loss: train 0.07) (Accuracy: train 0.98)\n",
      "epoch: 390 (Loss: train 0.06) (Accuracy: train 0.98)\n",
      "epoch: 400 (Loss: train 0.06) (Accuracy: train 0.98)\n",
      "epoch: 410 (Loss: train 0.06) (Accuracy: train 0.98)\n",
      "epoch: 420 (Loss: train 0.06) (Accuracy: train 0.98)\n",
      "epoch: 430 (Loss: train 0.06) (Accuracy: train 0.98)\n",
      "epoch: 440 (Loss: train 0.06) (Accuracy: train 0.98)\n",
      "epoch: 450 (Loss: train 0.06) (Accuracy: train 0.98)\n",
      "epoch: 460 (Loss: train 0.05) (Accuracy: train 0.98)\n",
      "epoch: 470 (Loss: train 0.05) (Accuracy: train 0.98)\n",
      "epoch: 480 (Loss: train 0.05) (Accuracy: train 0.98)\n",
      "epoch: 490 (Loss: train 0.05) (Accuracy: train 0.98)\n"
     ]
    }
   ],
   "source": [
    "from codes.utils import load_mnist\n",
    "from codes.DNN import DNN\n",
    "import matplotlib.pyplot as plt\n",
    "import numpy as np\n",
    "from datetime import datetime\n",
    "\n",
    "# datetime object containing current date and time\n",
    "now = datetime.now()\n",
    "# dd/mm/YY H:M:S\n",
    "dt_string = now.strftime(\"%d/%m/%Y %H:%M:%S\")\n",
    "print(\"date and time =\", dt_string)\n",
    "\n",
    "train = load_mnist()\n",
    "img = train[0][0]\n",
    "label = train[1][0]\n",
    "\n",
    "img = [img[i].flatten().reshape(1,-1) for i in range(img.shape[0])]\n",
    "img = np.concatenate(img)\n",
    "\n",
    "dnn = DNN(784, [512, 128], 10)\n",
    "# trop long si jprends tt le dataset\n",
    "indices = np.random.permutation(60000)\n",
    "dnn.pretrain(img[indices], 128, num_epochs=5, lr=0.1)\n",
    "\n",
    "# one hot encoding the labels\n",
    "one_hot_label = np.zeros((label.size, label.max()+1))\n",
    "one_hot_label[np.arange(label.size),label] = 1\n",
    "\n",
    "# backprop\n",
    "loss_pretrain, score_pretrain = dnn.back_propagation(img[indices], one_hot_label[indices], batch_size=100, num_epochs=500, lr=0.1)"
   ]
  },
  {
   "cell_type": "code",
   "execution_count": 2,
   "metadata": {},
   "outputs": [
    {
     "name": "stdout",
     "output_type": "stream",
     "text": [
      "date and time = 10/03/2021 05:55:11\n"
     ]
    }
   ],
   "source": [
    "# datetime object containing current date and time\n",
    "now = datetime.now()\n",
    "# dd/mm/YY H:M:S\n",
    "dt_string = now.strftime(\"%d/%m/%Y %H:%M:%S\")\n",
    "print(\"date and time =\", dt_string)"
   ]
  },
  {
   "cell_type": "code",
   "execution_count": 3,
   "metadata": {},
   "outputs": [
    {
     "data": {
      "image/png": "[encoded data removed]",
      "text/plain": [
       "<Figure size 432x288 with 1 Axes>"
      ]
     },
     "metadata": {
      "needs_background": "light"
     },
     "output_type": "display_data"
    },
    {
     "data": {
      "text/plain": [
       "5"
      ]
     },
     "execution_count": 3,
     "metadata": {},
     "output_type": "execute_result"
    }
   ],
   "source": [
    "plt.imshow(img[0].reshape(28,28), cmap='gray')\n",
    "plt.show()\n",
    "\n",
    "np.argmax(dnn.input_output_network(img[0])[-1])"
   ]
  },
  {
   "cell_type": "code",
   "execution_count": 4,
   "metadata": {},
   "outputs": [
    {
     "name": "stdout",
     "output_type": "stream",
     "text": [
      "epoch: 0 (Loss: train 2.30) (Accuracy: train 0.11)\n",
      "epoch: 10 (Loss: train 2.13) (Accuracy: train 0.30)\n",
      "epoch: 20 (Loss: train 0.98) (Accuracy: train 0.70)\n",
      "epoch: 30 (Loss: train 0.65) (Accuracy: train 0.82)\n",
      "epoch: 40 (Loss: train 0.51) (Accuracy: train 0.85)\n",
      "epoch: 50 (Loss: train 0.43) (Accuracy: train 0.87)\n",
      "epoch: 60 (Loss: train 0.38) (Accuracy: train 0.89)\n",
      "epoch: 70 (Loss: train 0.34) (Accuracy: train 0.90)\n",
      "epoch: 80 (Loss: train 0.31) (Accuracy: train 0.91)\n",
      "epoch: 90 (Loss: train 0.29) (Accuracy: train 0.91)\n",
      "epoch: 100 (Loss: train 0.27) (Accuracy: train 0.92)\n",
      "epoch: 110 (Loss: train 0.25) (Accuracy: train 0.93)\n",
      "epoch: 120 (Loss: train 0.23) (Accuracy: train 0.93)\n",
      "epoch: 130 (Loss: train 0.22) (Accuracy: train 0.94)\n",
      "epoch: 140 (Loss: train 0.21) (Accuracy: train 0.94)\n",
      "epoch: 150 (Loss: train 0.20) (Accuracy: train 0.94)\n",
      "epoch: 160 (Loss: train 0.19) (Accuracy: train 0.94)\n",
      "epoch: 170 (Loss: train 0.18) (Accuracy: train 0.95)\n",
      "epoch: 180 (Loss: train 0.17) (Accuracy: train 0.95)\n",
      "epoch: 190 (Loss: train 0.17) (Accuracy: train 0.95)\n",
      "epoch: 200 (Loss: train 0.16) (Accuracy: train 0.95)\n",
      "epoch: 210 (Loss: train 0.16) (Accuracy: train 0.95)\n",
      "epoch: 220 (Loss: train 0.15) (Accuracy: train 0.96)\n",
      "epoch: 230 (Loss: train 0.15) (Accuracy: train 0.96)\n",
      "epoch: 240 (Loss: train 0.14) (Accuracy: train 0.96)\n",
      "epoch: 250 (Loss: train 0.14) (Accuracy: train 0.96)\n",
      "epoch: 260 (Loss: train 0.13) (Accuracy: train 0.96)\n",
      "epoch: 270 (Loss: train 0.13) (Accuracy: train 0.96)\n",
      "epoch: 280 (Loss: train 0.12) (Accuracy: train 0.96)\n",
      "epoch: 290 (Loss: train 0.12) (Accuracy: train 0.96)\n",
      "epoch: 300 (Loss: train 0.12) (Accuracy: train 0.97)\n",
      "epoch: 310 (Loss: train 0.12) (Accuracy: train 0.97)\n",
      "epoch: 320 (Loss: train 0.11) (Accuracy: train 0.97)\n",
      "epoch: 330 (Loss: train 0.11) (Accuracy: train 0.97)\n",
      "epoch: 340 (Loss: train 0.11) (Accuracy: train 0.97)\n",
      "epoch: 350 (Loss: train 0.10) (Accuracy: train 0.97)\n",
      "epoch: 360 (Loss: train 0.10) (Accuracy: train 0.97)\n",
      "epoch: 370 (Loss: train 0.10) (Accuracy: train 0.97)\n",
      "epoch: 380 (Loss: train 0.10) (Accuracy: train 0.97)\n",
      "epoch: 390 (Loss: train 0.09) (Accuracy: train 0.97)\n",
      "epoch: 400 (Loss: train 0.09) (Accuracy: train 0.97)\n",
      "epoch: 410 (Loss: train 0.09) (Accuracy: train 0.97)\n",
      "epoch: 420 (Loss: train 0.09) (Accuracy: train 0.97)\n",
      "epoch: 430 (Loss: train 0.09) (Accuracy: train 0.97)\n",
      "epoch: 440 (Loss: train 0.08) (Accuracy: train 0.97)\n",
      "epoch: 450 (Loss: train 0.08) (Accuracy: train 0.97)\n",
      "epoch: 460 (Loss: train 0.08) (Accuracy: train 0.98)\n",
      "epoch: 470 (Loss: train 0.08) (Accuracy: train 0.98)\n",
      "epoch: 480 (Loss: train 0.08) (Accuracy: train 0.98)\n",
      "epoch: 490 (Loss: train 0.08) (Accuracy: train 0.98)\n"
     ]
    }
   ],
   "source": [
    "dnn = DNN(784, [512, 128], 10)\n",
    "loss_no_pretrain, score_no_pretrain = dnn.back_propagation(img[indices], one_hot_label[indices], batch_size=100, num_epochs=500, lr=0.1)"
   ]
  },
  {
   "cell_type": "code",
   "execution_count": 5,
   "metadata": {},
   "outputs": [
    {
     "name": "stdout",
     "output_type": "stream",
     "text": [
      "date and time = 10/03/2021 08:49:09\n"
     ]
    }
   ],
   "source": [
    "# datetime object containing current date and time\n",
    "now = datetime.now()\n",
    "# dd/mm/YY H:M:S\n",
    "dt_string = now.strftime(\"%d/%m/%Y %H:%M:%S\")\n",
    "print(\"date and time =\", dt_string)"
   ]
  },
  {
   "cell_type": "code",
   "execution_count": 6,
   "metadata": {},
   "outputs": [
    {
     "data": {
      "image/png": "[encoded data removed]",
      "text/plain": [
       "<Figure size 432x288 with 1 Axes>"
      ]
     },
     "metadata": {
      "needs_background": "light"
     },
     "output_type": "display_data"
    },
    {
     "data": {
      "text/plain": [
       "5"
      ]
     },
     "execution_count": 6,
     "metadata": {},
     "output_type": "execute_result"
    }
   ],
   "source": [
    "plt.imshow(img[0].reshape(28,28), cmap='gray')\n",
    "plt.show()\n",
    "\n",
    "np.argmax(dnn.input_output_network(img[0])[-1])"
   ]
  }
 ],
 "metadata": {
  "kernelspec": {
   "display_name": "Python 3",
   "language": "python",
   "name": "python3"
  },
  "language_info": {
   "codemirror_mode": {
    "name": "ipython",
    "version": 3
   },
   "file_extension": ".py",
   "mimetype": "text/x-python",
   "name": "python",
   "nbconvert_exporter": "python",
   "pygments_lexer": "ipython3",
   "version": "3.9.1"
  }
 },
 "nbformat": 4,
 "nbformat_minor": 5
}