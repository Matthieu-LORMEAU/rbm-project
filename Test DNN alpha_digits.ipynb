{
 "cells": [
  {
   "cell_type": "code",
   "execution_count": 1,
   "id": "active-education",
   "metadata": {},
   "outputs": [],
   "source": [
    "from codes.utils import load_alpha_digits\n",
    "import matplotlib.pyplot as plt\n",
    "import numpy as np\n",
    "from codes.DNN import DNN"
   ]
  },
  {
   "cell_type": "markdown",
   "id": "completed-piece",
   "metadata": {},
   "source": [
    "# Alpha Digits Test DBN"
   ]
  },
  {
   "cell_type": "code",
   "execution_count": 2,
   "id": "standing-bundle",
   "metadata": {},
   "outputs": [
    {
     "name": "stdout",
     "output_type": "stream",
     "text": [
      "(39, 320)\n"
     ]
    },
    {
     "data": {
      "image/png": "[encoded data removed]",
      "text/plain": [
       "<Figure size 432x288 with 1 Axes>"
      ]
     },
     "metadata": {
      "needs_background": "light"
     },
     "output_type": "display_data"
    }
   ],
   "source": [
    "data = load_alpha_digits()\n",
    "plt.imshow(data[\"dat\"][13][0], cmap='gray')\n",
    "d_letter = [data[\"dat\"][13][i].flatten() for i in range(data[\"dat\"][13].shape[0])]\n",
    "d_letter = np.array(d_letter)   \n",
    "print(d_letter.shape)"
   ]
  },
  {
   "cell_type": "code",
   "execution_count": 49,
   "id": "neutral-belle",
   "metadata": {},
   "outputs": [
    {
     "name": "stdout",
     "output_type": "stream",
     "text": [
      "Pretraining Complete: Reconstruction Error: 5.4197964\n"
     ]
    }
   ],
   "source": [
    "dnn = DNN(d_letter.shape[1], [30, 20])\n",
    "\n",
    "dnn.pretrain(d_letter, 10, num_epochs=1000, lr=0.1)"
   ]
  },
  {
   "cell_type": "code",
   "execution_count": 63,
   "id": "floral-debate",
   "metadata": {},
   "outputs": [
    {
     "data": {
      "image/png": "[encoded data removed]",
      "text/plain": [
       "<Figure size 432x288 with 1 Axes>"
      ]
     },
     "metadata": {
      "needs_background": "light"
     },
     "output_type": "display_data"
    }
   ],
   "source": [
    "plt.imshow(dnn.generate_image_DBN(1,100, reshape=data[\"dat\"][13][0].shape)[0], cmap='gray')\n",
    "plt.show()"
   ]
  },
  {
   "cell_type": "code",
   "execution_count": 67,
   "id": "beneficial-kansas",
   "metadata": {},
   "outputs": [
    {
     "data": {
      "text/plain": [
       "4.58257569495584"
      ]
     },
     "execution_count": 67,
     "metadata": {},
     "output_type": "execute_result"
    }
   ],
   "source": [
    "#first layer only\n",
    "\n",
    "l = dnn.layers[0]\n",
    "p_h = l.input_output(d_letter[0])\n",
    "h = (np.random.random_sample(l.output_size) < p_h) * 1\n",
    "\n",
    "p_v = l.output_input(h)\n",
    "x_tild = (np.random.random_sample(l.input_size) < p_v) * 1\n",
    "\n",
    "from codes.utils import reconstruction_error\n",
    "\n",
    "reconstruction_error(d_letter[0], x_tild)"
   ]
  },
  {
   "cell_type": "code",
   "execution_count": 66,
   "id": "trained-sound",
   "metadata": {},
   "outputs": [
    {
     "data": {
      "text/plain": [
       "{'input_size': 320,\n",
       " 'output_size': 30,\n",
       " 'W': array([[ 1.10037825, -1.7601185 ,  0.48174789, ...,  1.46289646,\n",
       "          0.32897087, -1.80177225],\n",
       "        [ 1.21569917,  0.37136987,  2.58877291, ...,  0.02832884,\n",
       "         -2.28044103, -1.9294697 ],\n",
       "        [ 2.07517995,  1.31992611, -0.78913048, ...,  1.40451893,\n",
       "         -0.34158319, -2.6055969 ],\n",
       "        ...,\n",
       "        [-0.02692326,  0.19253472, -1.08205246, ..., -1.40334109,\n",
       "         -0.70016183, -0.69647932],\n",
       "        [ 0.39552884,  1.09130618,  0.11368031, ..., -1.24580146,\n",
       "          0.9041928 ,  0.15552291],\n",
       "        [-0.73914857,  1.19576626,  0.55437458, ..., -0.9273873 ,\n",
       "          1.62605814, -2.33757692]]),\n",
       " 'a': array([-9.78888889e-01, -2.79111111e+00, -2.27777778e-01, -2.07222222e+00,\n",
       "        -2.36333333e+00,  3.60000000e-01,  7.15555556e-01, -8.85555556e-01,\n",
       "         1.85555556e-01,  7.88888889e-02, -1.20000000e-01, -3.65555556e-01,\n",
       "        -5.88888889e-01, -1.23888889e+00, -1.04222222e+00, -1.00222222e+00,\n",
       "         2.77777778e-02,  7.11111111e-02,  4.65555556e-01,  7.57777778e-01,\n",
       "        -5.55555556e-02,  4.30000000e-01,  4.28888889e-01, -8.33333333e-02,\n",
       "         5.33333333e-02,  1.76666667e-01,  2.32222222e-01, -7.05555556e-01,\n",
       "         2.64444444e-01,  1.10000000e-01, -3.11111111e-01, -1.06666667e+00,\n",
       "        -9.00000000e-02,  6.62222222e-01,  1.29555556e+00,  8.80000000e-01,\n",
       "         8.83333333e-01, -5.88888889e-02,  4.76666667e-01, -1.11111111e-03,\n",
       "         1.09555556e+00, -4.26666667e-01,  8.41111111e-01,  2.84444444e-01,\n",
       "         4.34444444e-01, -1.87777778e-01, -1.44444444e-02, -3.18888889e-01,\n",
       "         5.16666667e-01,  1.77333333e+00,  1.84222222e+00,  2.53222222e+00,\n",
       "         2.71111111e+00,  2.53333333e-01,  6.23333333e-01, -4.33333333e-01,\n",
       "        -1.20111111e+00, -9.51111111e-01, -8.44444444e-02, -5.20000000e-01,\n",
       "        -1.90000000e-01,  5.63333333e-01,  1.54444444e-01,  4.75555556e-01,\n",
       "        -9.78888889e-01,  1.30000000e-01,  1.17777778e-01,  1.58000000e+00,\n",
       "         2.13111111e+00,  1.16777778e+00,  1.70333333e+00, -1.02222222e-01,\n",
       "        -1.54444444e-01, -5.62222222e-01, -4.67777778e-01, -1.10666667e+00,\n",
       "        -1.30000000e+00,  3.77777778e-01, -1.93333333e-01,  8.88888889e-03,\n",
       "        -1.50222222e+00,  1.25555556e-01,  1.94444444e-01,  1.31111111e-01,\n",
       "         8.34444444e-01,  1.76555556e+00,  9.30000000e-01,  7.55555556e-02,\n",
       "         1.40555556e+00, -9.14444444e-01, -1.45666667e+00, -4.64444444e-01,\n",
       "        -7.82222222e-01, -2.85555556e-01,  1.36111111e+00,  1.86666667e-01,\n",
       "        -7.70000000e-01,  3.38888889e-01,  7.07777778e-01, -5.66666667e-01,\n",
       "        -4.45555556e-01,  1.67777778e-01, -1.48888889e-01,  9.10000000e-01,\n",
       "         6.41111111e-01,  7.85555556e-01, -5.61111111e-01, -4.90000000e-01,\n",
       "        -1.10333333e+00, -1.96666667e-01,  6.52222222e-01,  6.93333333e-01,\n",
       "        -6.05555556e-01, -1.39888889e+00,  9.78888889e-01, -3.28888889e-01,\n",
       "        -9.00000000e-01, -4.25555556e-01,  1.02222222e-01,  8.93333333e-01,\n",
       "         8.77777778e-01,  1.28444444e+00,  6.45555556e-01, -1.19666667e+00,\n",
       "        -9.46666667e-01, -5.67777778e-01,  7.16666667e-01,  2.15555556e+00,\n",
       "        -4.88888889e-01, -5.05555556e-01,  1.06666667e+00, -3.28888889e-01,\n",
       "        -1.58333333e+00, -2.70000000e-01, -3.00000000e-01,  1.82222222e-01,\n",
       "         5.82222222e-01,  7.92222222e-01,  5.34444444e-01,  4.44444444e-02,\n",
       "        -1.22888889e+00,  1.36666667e-01, -3.67777778e-01,  1.76222222e+00,\n",
       "        -5.13333333e-01,  1.11111111e-02,  4.35555556e-01, -1.30777778e+00,\n",
       "        -8.00000000e-01, -4.34444444e-01, -2.35555556e-01,  1.31111111e-01,\n",
       "         3.12222222e-01,  1.17777778e-01, -1.86666667e-01,  8.00000000e-02,\n",
       "        -1.16666667e-01,  5.72222222e-01, -5.33333333e-02,  2.46222222e+00,\n",
       "        -7.15555556e-01, -6.66666667e-03, -4.13333333e-01, -1.23555556e+00,\n",
       "        -8.00000000e-01, -4.36666667e-01, -2.97777778e-01,  3.31111111e-01,\n",
       "        -3.82222222e-01, -1.06111111e+00, -5.66666667e-01,  6.33333333e-02,\n",
       "         8.03333333e-01,  2.04555556e+00,  2.01111111e-01,  1.29777778e+00,\n",
       "        -1.52000000e+00, -5.21111111e-01, -1.09777778e+00, -3.77777778e-01,\n",
       "        -7.01111111e-01, -8.95555556e-01,  4.11111111e-01,  2.16666667e-01,\n",
       "        -1.40000000e-01, -1.02333333e+00, -1.13444444e+00,  1.70000000e-01,\n",
       "         8.04444444e-01,  1.76444444e+00,  1.88666667e+00,  7.40000000e-01,\n",
       "        -8.90000000e-01, -5.41111111e-01, -9.06666667e-01, -7.50000000e-01,\n",
       "        -1.33888889e+00, -8.41111111e-01, -3.77777778e-02, -2.58888889e-01,\n",
       "        -9.18888889e-01, -1.06333333e+00, -4.71111111e-01, -9.22222222e-02,\n",
       "         1.79000000e+00,  1.72333333e+00,  2.36222222e+00, -9.97777778e-01,\n",
       "        -8.70000000e-01, -2.38888889e-01, -6.10000000e-01, -1.58888889e-01,\n",
       "        -1.90555556e+00, -4.98888889e-01,  5.55555556e-03, -2.87777778e-01,\n",
       "        -9.95555556e-01, -5.22222222e-01, -4.07777778e-01,  5.66666667e-02,\n",
       "         6.93333333e-01,  1.38666667e+00,  2.66666667e+00, -3.33333333e-02,\n",
       "        -4.81111111e-01, -5.57777778e-01, -6.11111111e-02,  8.55555556e-02,\n",
       "        -2.11222222e+00, -6.86666667e-01, -3.66666667e-02, -6.51111111e-01,\n",
       "        -6.76666667e-01, -8.25555556e-01, -9.44444444e-02,  4.95555556e-01,\n",
       "         5.28888889e-01, -2.77777778e-01,  1.17222222e+00, -6.01111111e-01,\n",
       "        -5.85555556e-01,  1.32333333e+00,  5.76666667e-01, -9.55555556e-02,\n",
       "        -1.33111111e+00, -7.68888889e-01,  1.50444444e+00,  1.14555556e+00,\n",
       "        -2.15555556e-01,  5.92222222e-01,  6.03333333e-01,  9.91111111e-01,\n",
       "         4.88888889e-02,  5.74444444e-01, -8.34444444e-01, -1.02666667e+00,\n",
       "        -2.38888889e-01,  1.56666667e+00,  8.78888889e-01, -1.07333333e+00,\n",
       "         3.16666667e-01, -4.85555556e-01,  8.75555556e-01,  8.88888889e-01,\n",
       "        -1.03333333e-01,  7.65555556e-01,  5.65555556e-01, -6.00000000e-02,\n",
       "         2.14444444e-01, -5.00000000e-01, -1.15000000e+00, -9.16666667e-01,\n",
       "        -9.37777778e-01,  3.33444444e+00,  1.91444444e+00,  1.44222222e+00,\n",
       "         2.05222222e+00,  2.07111111e+00,  4.11111111e-01,  3.17777778e-01,\n",
       "         5.61111111e-01,  1.07444444e+00,  5.00000000e-02,  2.00000000e-01,\n",
       "        -1.74333333e+00, -2.14888889e+00, -3.44444444e-02, -1.28000000e+00,\n",
       "        -9.92222222e-01,  1.85111111e+00,  2.19111111e+00,  8.62222222e-01,\n",
       "         1.72444444e+00,  7.57777778e-01,  1.71333333e+00,  2.19222222e+00,\n",
       "         1.57444444e+00, -9.10000000e-01, -1.31555556e+00, -1.07000000e+00,\n",
       "        -1.31111111e-01, -2.38888889e-01, -7.88888889e-01, -1.85444444e+00,\n",
       "        -7.25555556e-01,  6.71111111e-01,  6.75555556e-01,  1.27888889e+00,\n",
       "         1.12333333e+00,  1.13888889e+00,  6.33333333e-01, -8.44444444e-02,\n",
       "         3.42222222e-01,  4.76666667e-01,  3.13333333e-01,  1.01111111e-01,\n",
       "        -6.38888889e-01, -8.08888889e-01, -1.67555556e+00, -2.21555556e+00]),\n",
       " 'b': array([-2.77323493,  1.70521766, -0.08047985,  0.04428071, -0.21856352,\n",
       "        -0.54262594, -1.60207525, -0.27655325, -0.15507109, -0.22308584,\n",
       "         0.41341266,  1.15857779, -2.19317346,  3.04584716,  1.96623302,\n",
       "         1.37466029, -2.75425522, -0.8063603 ,  1.13910333,  0.28738244,\n",
       "        -0.06126873, -0.74613406,  0.85544167,  1.65707778, -1.74024958,\n",
       "         1.42488877,  0.42916658, -0.27733613,  0.04210089, -2.81415096])}"
      ]
     },
     "execution_count": 66,
     "metadata": {},
     "output_type": "execute_result"
    }
   ],
   "source": [
    "l.__dict__"
   ]
  }
 ],
 "metadata": {
  "kernelspec": {
   "display_name": "Python 3",
   "language": "python",
   "name": "python3"
  },
  "language_info": {
   "codemirror_mode": {
    "name": "ipython",
    "version": 3
   },
   "file_extension": ".py",
   "mimetype": "text/x-python",
   "name": "python",
   "nbconvert_exporter": "python",
   "pygments_lexer": "ipython3",
   "version": "3.9.1"
  }
 },
 "nbformat": 4,
 "nbformat_minor": 5
}
